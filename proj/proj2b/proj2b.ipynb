{
 "cells": [
  {
   "cell_type": "code",
   "execution_count": 1,
   "metadata": {
    "deletable": false,
    "editable": false
   },
   "outputs": [
    {
     "name": "stdout",
     "output_type": "stream",
     "text": [
      "=====================================================================\n",
      "Assignment: proj2b\n",
      "OK, version v1.13.11\n",
      "=====================================================================\n",
      "\n"
     ]
    }
   ],
   "source": [
    "# Initialize OK\n",
    "from client.api.notebook import Notebook\n",
    "ok = Notebook('proj2b.ok')"
   ]
  },
  {
   "cell_type": "markdown",
   "metadata": {},
   "source": [
    "# Project 2 Part B: Spam/Ham Classification\n",
    "## Classifiers\n",
    "### The assignment is due on Monday, April 27th at 11:59pm PST.\n",
    "\n",
    "**Collaboration Policy**\n",
    "\n",
    "Data science is a collaborative activity. While you may talk with others about\n",
    "the project, we ask that you **write your solutions individually**. If you do\n",
    "discuss the assignments with others please **include their names** at the top\n",
    "of your notebook."
   ]
  },
  {
   "cell_type": "markdown",
   "metadata": {},
   "source": [
    "**Collaborators**: Chrystal Chen; Andrew Yeskoo"
   ]
  },
  {
   "cell_type": "markdown",
   "metadata": {},
   "source": [
    "## This Assignment\n",
    "In Project 2 Part A, you made an effort to understand the data through EDA, and did some basic feature engineering. You also built a Logistic Regression model to classify Spam/Ham emails. In Part B, you will learn how to evaluate the classifiers you built. You will also have the chance to improve your model by selecting more features.\n",
    "\n",
    "## Warning\n",
    "We've tried our best to filter the data for anything blatantly offensive as best as we can, but unfortunately there may still be some examples you may find in poor taste. If you encounter these examples and believe it is inappropriate for students, please let a TA know and we will try to remove it for future semesters. Thanks for your understanding!\n",
    "\n",
    "## Score Breakdown\n",
    "Question | Points\n",
    "--- | ---\n",
    "6a | 1\n",
    "6b | 1\n",
    "6c | 2\n",
    "6d | 2\n",
    "6e | 1\n",
    "6f | 3\n",
    "7 | 6\n",
    "8 | 6\n",
    "9 | 15\n",
    "Total | 37"
   ]
  },
  {
   "cell_type": "markdown",
   "metadata": {},
   "source": [
    "## Setup"
   ]
  },
  {
   "cell_type": "code",
   "execution_count": 2,
   "metadata": {},
   "outputs": [],
   "source": [
    "import numpy as np\n",
    "import pandas as pd\n",
    "\n",
    "import matplotlib.pyplot as plt\n",
    "%matplotlib inline\n",
    "\n",
    "import seaborn as sns\n",
    "sns.set(style = \"whitegrid\", \n",
    "        color_codes = True,\n",
    "        font_scale = 1.5)"
   ]
  },
  {
   "cell_type": "code",
   "execution_count": 3,
   "metadata": {},
   "outputs": [
    {
     "name": "stdout",
     "output_type": "stream",
     "text": [
      "Using version already downloaded: Mon Apr 27 10:25:13 2020\n",
      "MD5 hash of file: 0380c4cf72746622947b9ca5db9b8be8\n",
      "Using version already downloaded: Mon Apr 27 22:22:30 2020\n",
      "MD5 hash of file: a2e7abd8c7d9abf6e6fafc1d1f9ee6bf\n"
     ]
    }
   ],
   "source": [
    "from utils import fetch_and_cache_gdrive\n",
    "fetch_and_cache_gdrive('1SCASpLZFKCp2zek-toR3xeKX3DZnBSyp', 'train.csv')\n",
    "fetch_and_cache_gdrive('1ZDFo9OTF96B5GP2Nzn8P8-AL7CTQXmC0', 'test.csv')\n",
    "\n",
    "original_training_data = pd.read_csv('data/train.csv')\n",
    "test = pd.read_csv('data/test.csv')\n",
    "\n",
    "# Convert the emails to lower case as a first step to processing the text\n",
    "original_training_data['email'] = original_training_data['email'].str.lower()\n",
    "test['email'] = test['email'].str.lower()\n",
    "\n",
    "original_training_data.head()\n",
    "\n",
    "from sklearn.model_selection import train_test_split\n",
    "\n",
    "train, val = train_test_split(original_training_data, test_size=0.1, random_state=42)"
   ]
  },
  {
   "cell_type": "markdown",
   "metadata": {},
   "source": [
    "The following code is adapted from Part A of this project. You will be using it again in Part B."
   ]
  },
  {
   "cell_type": "code",
   "execution_count": 4,
   "metadata": {},
   "outputs": [
    {
     "data": {
      "text/plain": [
       "(array([[0, 0, 0, 0, 0],\n",
       "        [0, 0, 0, 0, 0],\n",
       "        [0, 0, 0, 0, 0],\n",
       "        [0, 0, 0, 0, 0],\n",
       "        [0, 0, 0, 1, 0]]),\n",
       " array([0, 0, 0, 0, 0]))"
      ]
     },
     "execution_count": 4,
     "metadata": {},
     "output_type": "execute_result"
    }
   ],
   "source": [
    "def words_in_texts(words, texts):\n",
    "    '''\n",
    "    Args:\n",
    "        words (list-like): words to find\n",
    "        texts (Series): strings to search in\n",
    "    \n",
    "    Returns:\n",
    "        NumPy array of 0s and 1s with shape (n, p) where n is the\n",
    "        number of texts and p is the number of words.\n",
    "    '''\n",
    "    indicator_array = 1 * np.array([texts.str.contains(word) for word in words]).T\n",
    "    return indicator_array\n",
    "\n",
    "some_words = ['drug', 'bank', 'prescription', 'memo', 'private']\n",
    "\n",
    "X_train = words_in_texts(some_words, train['email']) \n",
    "Y_train = np.array(train['spam'])\n",
    "\n",
    "X_train[:5], Y_train[:5]"
   ]
  },
  {
   "cell_type": "markdown",
   "metadata": {},
   "source": [
    "Recall that you trained the following model in Part A."
   ]
  },
  {
   "cell_type": "code",
   "execution_count": 5,
   "metadata": {},
   "outputs": [
    {
     "name": "stdout",
     "output_type": "stream",
     "text": [
      "Training Accuracy:  0.7576201251164648\n"
     ]
    }
   ],
   "source": [
    "from sklearn.linear_model import LogisticRegression\n",
    "\n",
    "model =  LogisticRegression()\n",
    "model.fit(X_train, Y_train)\n",
    "\n",
    "training_accuracy = model.score(X_train, Y_train)\n",
    "print(\"Training Accuracy: \", training_accuracy)"
   ]
  },
  {
   "cell_type": "markdown",
   "metadata": {},
   "source": [
    "## Evaluating Classifiers"
   ]
  },
  {
   "cell_type": "markdown",
   "metadata": {},
   "source": [
    "The model you trained doesn't seem too shabby! But the classifier you made above isn't as good as this might lead us to believe. First, we are evaluating accuracy on the training set, which may provide a misleading accuracy measure, especially if we used the training set to identify discriminative features. In future parts of this analysis, it will be safer to hold out some of our data for model validation and comparison.\n",
    "\n",
    "Presumably, our classifier will be used for **filtering**, i.e. preventing messages labeled `spam` from reaching someone's inbox. There are two kinds of errors we can make:\n",
    "- False positive (FP): a ham email gets flagged as spam and filtered out of the inbox.\n",
    "- False negative (FN): a spam email gets mislabeled as ham and ends up in the inbox.\n",
    "\n",
    "These definitions depend both on the true labels and the predicted labels. False positives and false negatives may be of differing importance, leading us to consider more ways of evaluating a classifier, in addition to overall accuracy:\n",
    "\n",
    "**Precision** measures the proportion $\\frac{\\text{TP}}{\\text{TP} + \\text{FP}}$ of emails flagged as spam that are actually spam.\n",
    "\n",
    "**Recall** measures the proportion $\\frac{\\text{TP}}{\\text{TP} + \\text{FN}}$ of spam emails that were correctly flagged as spam. \n",
    "\n",
    "**False-alarm rate** measures the proportion $\\frac{\\text{FP}}{\\text{FP} + \\text{TN}}$ of ham emails that were incorrectly flagged as spam. \n",
    "\n",
    "The following image might help:\n",
    "\n",
    "<img src=\"https://upload.wikimedia.org/wikipedia/commons/thumb/2/26/Precisionrecall.svg/700px-Precisionrecall.svg.png\" width=\"500px\">\n",
    "\n",
    "Note that a true positive (TP) is a spam email that is classified as spam, and a true negative (TN) is a ham email that is classified as ham."
   ]
  },
  {
   "cell_type": "markdown",
   "metadata": {
    "deletable": false,
    "editable": false
   },
   "source": [
    "### Question 6a\n",
    "\n",
    "Suppose we have a classifier `zero_predictor` that always predicts 0 (never predicts positive). How many false positives and false negatives would this classifier have if it were evaluated on the training set and its results were compared to `Y_train`? Fill in the variables below (answers can be hard-coded):\n",
    "\n",
    "*Tests in Question 6 only check that you have assigned appropriate types of values to each response variable, but do not check that your answers are correct.*\n",
    "\n",
    "<!--\n",
    "BEGIN QUESTION\n",
    "name: q6a\n",
    "points: 1\n",
    "-->"
   ]
  },
  {
   "cell_type": "code",
   "execution_count": 6,
   "metadata": {},
   "outputs": [],
   "source": [
    "zero_predictor_fp = 0\n",
    "zero_predictor_fn = Y_train.sum()"
   ]
  },
  {
   "cell_type": "code",
   "execution_count": 7,
   "metadata": {
    "deletable": false,
    "editable": false
   },
   "outputs": [
    {
     "name": "stdout",
     "output_type": "stream",
     "text": [
      "~~~~~~~~~~~~~~~~~~~~~~~~~~~~~~~~~~~~~~~~~~~~~~~~~~~~~~~~~~~~~~~~~~~~~\n",
      "Running tests\n",
      "\n",
      "---------------------------------------------------------------------\n",
      "Test summary\n",
      "    Passed: 2\n",
      "    Failed: 0\n",
      "[ooooooooook] 100.0% passed\n",
      "\n"
     ]
    }
   ],
   "source": [
    "ok.grade(\"q6a\");"
   ]
  },
  {
   "cell_type": "markdown",
   "metadata": {
    "deletable": false,
    "editable": false
   },
   "source": [
    "### Question 6b\n",
    "\n",
    "What are the accuracy and recall of `zero_predictor` (classifies every email as ham) on the training set? Do **NOT** use any `sklearn` functions.\n",
    "\n",
    "<!--\n",
    "BEGIN QUESTION\n",
    "name: q6b\n",
    "points: 1\n",
    "-->"
   ]
  },
  {
   "cell_type": "code",
   "execution_count": 8,
   "metadata": {},
   "outputs": [],
   "source": [
    "zero_predictor_tp = 0\n",
    "zero_predictor_tn = Y_train.shape[0]\n",
    "\n",
    "zero_predictor_acc = (1-Y_train).sum()/Y_train.shape[0]\n",
    "zero_predictor_recall = zero_predictor_tp/(zero_predictor_tp+zero_predictor_fn)"
   ]
  },
  {
   "cell_type": "code",
   "execution_count": 9,
   "metadata": {
    "deletable": false,
    "editable": false
   },
   "outputs": [
    {
     "name": "stdout",
     "output_type": "stream",
     "text": [
      "~~~~~~~~~~~~~~~~~~~~~~~~~~~~~~~~~~~~~~~~~~~~~~~~~~~~~~~~~~~~~~~~~~~~~\n",
      "Running tests\n",
      "\n",
      "---------------------------------------------------------------------\n",
      "Test summary\n",
      "    Passed: 2\n",
      "    Failed: 0\n",
      "[ooooooooook] 100.0% passed\n",
      "\n"
     ]
    }
   ],
   "source": [
    "ok.grade(\"q6b\");"
   ]
  },
  {
   "cell_type": "markdown",
   "metadata": {
    "deletable": false,
    "editable": false
   },
   "source": [
    "### Question 6c\n",
    "\n",
    "Provide brief explanations of the results from 6a and 6b. Explain why the number of false positives, number of false negatives, accuracy, and recall all turned out the way they did.\n",
    "\n",
    "<!--\n",
    "BEGIN QUESTION\n",
    "name: q6c\n",
    "manual: True\n",
    "points: 2\n",
    "-->\n",
    "<!-- EXPORT TO PDF -->"
   ]
  },
  {
   "cell_type": "markdown",
   "metadata": {},
   "source": [
    "Since zero_predictor always predicts 0, it's getting 0 accuracy as it hasn't predict even one true positive; so is recall. Obviously, false positive = 0 and false negative = number of all spams."
   ]
  },
  {
   "cell_type": "markdown",
   "metadata": {
    "deletable": false,
    "editable": false
   },
   "source": [
    "### Question 6d\n",
    "\n",
    "Compute the precision, recall, and false-alarm rate of the `LogisticRegression` classifier created and trained in Part A. Do **NOT** use any `sklearn` functions.\n",
    "\n",
    "**Note: In lecture we used the `sklearn` package to compute the rates. Here you should work through them using just the definitions to help build a deeper understanding.**\n",
    "\n",
    "<!--\n",
    "BEGIN QUESTION\n",
    "name: q6d\n",
    "points: 2\n",
    "-->"
   ]
  },
  {
   "cell_type": "code",
   "execution_count": 10,
   "metadata": {},
   "outputs": [],
   "source": [
    "Y_train_hat = model.predict(X_train)\n",
    "\n",
    "logistic_predictor_tp = np.logical_and(Y_train_hat, Y_train).sum()\n",
    "#print(logistic_predictor_tp)\n",
    "logistic_predictor_fp = np.logical_and(Y_train_hat, np.logical_not(Y_train)).sum()\n",
    "#print(logistic_predictor_fp)\n",
    "logistic_predictor_tn = np.logical_and(np.logical_not(Y_train_hat), np.logical_not(Y_train)).sum()\n",
    "#print(logistic_predictor_tn)\n",
    "logistic_predictor_fn = np.logical_and(np.logical_not(Y_train_hat), Y_train).sum()\n",
    "#print(logistic_predictor_fn)\n",
    "logistic_predictor_precision = logistic_predictor_tp/(logistic_predictor_tp+logistic_predictor_fp)\n",
    "#print(logistic_predictor_precision)\n",
    "logistic_predictor_recall = logistic_predictor_tp/(logistic_predictor_tp+logistic_predictor_fn)\n",
    "#print(logistic_predictor_recall)\n",
    "logistic_predictor_far = logistic_predictor_fp/(logistic_predictor_fp+logistic_predictor_tn)\n",
    "#print(logistic_predictor_far)"
   ]
  },
  {
   "cell_type": "code",
   "execution_count": 11,
   "metadata": {
    "deletable": false,
    "editable": false
   },
   "outputs": [
    {
     "name": "stdout",
     "output_type": "stream",
     "text": [
      "~~~~~~~~~~~~~~~~~~~~~~~~~~~~~~~~~~~~~~~~~~~~~~~~~~~~~~~~~~~~~~~~~~~~~\n",
      "Running tests\n",
      "\n",
      "---------------------------------------------------------------------\n",
      "Test summary\n",
      "    Passed: 3\n",
      "    Failed: 0\n",
      "[ooooooooook] 100.0% passed\n",
      "\n"
     ]
    }
   ],
   "source": [
    "ok.grade(\"q6d\");"
   ]
  },
  {
   "cell_type": "markdown",
   "metadata": {
    "deletable": false,
    "editable": false
   },
   "source": [
    "### Question 6e\n",
    "\n",
    "Are there more false positives or false negatives when using the logistic regression classifier from Part A?\n",
    "\n",
    "<!--\n",
    "BEGIN QUESTION\n",
    "name: q6e\n",
    "manual: True\n",
    "points: 1\n",
    "-->\n",
    "<!-- EXPORT TO PDF -->"
   ]
  },
  {
   "cell_type": "markdown",
   "metadata": {},
   "source": [
    "More false negatives."
   ]
  },
  {
   "cell_type": "markdown",
   "metadata": {
    "deletable": false,
    "editable": false
   },
   "source": [
    "### Question 6f\n",
    "\n",
    "1. Our logistic regression classifier got 75.8% prediction accuracy (number of correct predictions / total). How does this compare with predicting 0 for every email?\n",
    "1. Given the word features we gave you above, name one reason this classifier is performing poorly. Hint: Think about how prevalent these words are in the email set.\n",
    "1. Which of these two classifiers would you prefer for a spam filter and why? Describe your reasoning and relate it to at least one of the evaluation metrics you have computed so far.\n",
    "\n",
    "<!--\n",
    "BEGIN QUESTION\n",
    "name: q6f\n",
    "manual: True\n",
    "points: 3\n",
    "-->\n",
    "<!-- EXPORT TO PDF -->"
   ]
  },
  {
   "cell_type": "markdown",
   "metadata": {},
   "source": [
    "1. Only slightly higher (than 74.5%)\n",
    "1. The classifier can not effectively distinguish spam from ham as words selected are both not so prevalent in ham and spam.\n",
    "1. I prefer zero_predictor as prediction accuracy is almost the same with logistic regression but I wont miss a single ham."
   ]
  },
  {
   "cell_type": "markdown",
   "metadata": {},
   "source": [
    "## Moving Forward\n",
    "\n",
    "With this in mind, it is now your task to make the spam filter more accurate. In order to get full credit on the accuracy part of this assignment, you must get at least **88%** accuracy on the test set. To see your accuracy on the test set, you will use your classifier to predict every email in the `test` DataFrame and upload your predictions to Kaggle.\n",
    "\n",
    "**Kaggle limits you to four submissions per day**. This means you should start early so you have time if needed to refine your model. You will be able to see your accuracy on the entire set when submitting to Kaggle (the accuracy that will determine your score for question 9).\n",
    "\n",
    "Here are some ideas for improving your model:\n",
    "\n",
    "1. Finding better features based on the email text. Some example features are:\n",
    "    1. Number of characters in the subject / body\n",
    "    1. Number of words in the subject / body\n",
    "    1. Use of punctuation (e.g., how many '!' were there?)\n",
    "    1. Number / percentage of capital letters \n",
    "    1. Whether the email is a reply to an earlier email or a forwarded email\n",
    "1. Finding better (and/or more) words to use as features. Which words are the best at distinguishing emails? This requires digging into the email text itself. \n",
    "1. Better data processing. For example, many emails contain HTML as well as text. You can consider extracting out the text from the HTML to help you find better words. Or, you can match HTML tags themselves, or even some combination of the two.\n",
    "1. Model selection. You can adjust parameters of your model (e.g. the regularization parameter) to achieve higher accuracy. Recall that you should use cross-validation to do feature and model selection properly! Otherwise, you will likely overfit to your training data.\n",
    "\n",
    "You may use whatever method you prefer in order to create features, but **you are not allowed to import any external feature extraction libraries**. In addition, **you are only allowed to train logistic regression models**. No random forests, k-nearest-neighbors, neural nets, etc.\n",
    "\n",
    "We have not provided any code to do this, so feel free to create as many cells as you need in order to tackle this task. However, answering questions 7, 8, and 9 should help guide you.\n",
    "\n",
    "---\n",
    "\n",
    "**Note:** *You should use the **validation data** to evaluate your model and get a better sense of how it will perform on the Kaggle evaluation.*\n",
    "\n",
    "---"
   ]
  },
  {
   "cell_type": "markdown",
   "metadata": {
    "deletable": false,
    "editable": false
   },
   "source": [
    "### Question 7: Feature/Model Selection Process\n",
    "\n",
    "In the following cell, describe the process of improving your model. You should use at least 2-3 sentences each to address the follow questions:\n",
    "\n",
    "1. How did you find better features for your model?\n",
    "2. What did you try that worked / didn't work?\n",
    "3. What was surprising in your search for good features?\n",
    "\n",
    "<!--\n",
    "BEGIN QUESTION\n",
    "name: q7\n",
    "manual: True\n",
    "points: 6\n",
    "-->\n",
    "<!-- EXPORT TO PDF -->"
   ]
  },
  {
   "cell_type": "markdown",
   "metadata": {},
   "source": [
    "1. Visulize data to see if it's good feature in general. Then use sorting rules to prioritize features that distinguish hams from spams obviously and drop others\n",
    "1. Words count after html tag cleaning is shown below to be not a good feature; neither is \"!\" count.\n",
    "1. It's actually surprising to see \"!\" turned out not a good feature, cause in my personal experience its just so commonly used in spam."
   ]
  },
  {
   "cell_type": "markdown",
   "metadata": {},
   "source": [
    "# Question 8: EDA\n",
    "\n",
    "In the cell below, show a visualization that you used to select features for your model. Include\n",
    "\n",
    "1. A plot showing something meaningful about the data that helped you during feature selection, model selection, or both.\n",
    "2. Two or three sentences describing what you plotted and its implications with respect to your features.\n",
    "\n",
    "Feel to create as many plots as you want in your process of feature selection, but select one for the response cell below.\n",
    "\n",
    "**You should not just produce an identical visualization to question 3.** Specifically, don't show us a bar chart of proportions, or a one-dimensional class-conditional density plot. Any other plot is acceptable, as long as it comes with thoughtful commentary. Here are some ideas:\n",
    "\n",
    "1. Consider the correlation between multiple features (look up correlation plots and `sns.heatmap`). \n",
    "1. Try to show redundancy in a group of features (e.g. `body` and `html` might co-occur relatively frequently, or you might be able to design a feature that captures all html tags and compare it to these). \n",
    "1. Visualize which words have high or low values for some useful statistic.\n",
    "1. Visually depict whether spam emails tend to be wordier (in some sense) than ham emails."
   ]
  },
  {
   "cell_type": "markdown",
   "metadata": {
    "deletable": false,
    "editable": false
   },
   "source": [
    "Generate your visualization in the cell below and provide your description in a comment.\n",
    "\n",
    "<!--\n",
    "BEGIN QUESTION\n",
    "name: q8\n",
    "manual: True\n",
    "format: image\n",
    "points: 6\n",
    "-->\n",
    "<!-- EXPORT TO PDF format:image -->"
   ]
  },
  {
   "cell_type": "code",
   "execution_count": 12,
   "metadata": {},
   "outputs": [
    {
     "data": {
      "image/png": "[encoded data removed]",
      "text/plain": [
       "<Figure size 432x288 with 1 Axes>"
      ]
     },
     "metadata": {},
     "output_type": "display_data"
    }
   ],
   "source": [
    "# Write your description (2-3 sentences) as a comment here:\n",
    "# According to the plot below, difference between ham and spam distribution is not obvious\n",
    "# engough. Because of this words count is selected as a feature.\n",
    "# \n",
    "\n",
    "# Write the code to generate your visualization here:\n",
    "pd.options.mode.chained_assignment = None  # default='warn'\n",
    "import re\n",
    "\n",
    "## 1.A length(did before). As we are to do words count, this one is neglected\n",
    "\n",
    "## 1.B Words count. Not selected as a feature.\n",
    "def detag(str):\n",
    "    return re.findall('>([^>]+)<', str)\n",
    "\n",
    "def splitIntoWords(str):\n",
    "    return re.findall('\\w+', str)\n",
    "\n",
    "def calLength(data):\n",
    "    html_words_array = [\"\".join(x) for x in data.loc[data['email'].str.contains(\"<html>\")]['email'].apply(detag)]\n",
    "    html_words_series = pd.Series(html_words_array, index = data[data['email'].str.contains(\"<html>\")].index)\n",
    "\n",
    "    data['email_detaged'] = data['email']\n",
    "    data.loc[data['email'].str.contains(\"<html>\"), 'email_detaged'] = html_words_series\n",
    "    data['email_words']=data['email_detaged'].apply(splitIntoWords)\n",
    "    \n",
    "    data['subject'] = data['subject'].fillna(\"\")\n",
    "    data['subject_words']=data['subject'].apply(splitIntoWords)\n",
    "\n",
    "    data['length'] = [np.shape(x)[0] for x in data['email_words']]\n",
    "    return data\n",
    "\n",
    "calLength(train)\n",
    "\n",
    "plt.figure()\n",
    "sns.distplot(train[train['spam']==0]['length'], hist=True, kde=True, label='Ham')\n",
    "sns.distplot(train[train['spam']==1]['length'], hist=True, kde=True, label='Spam')\n",
    "plt.xlim(0,5000)\n",
    "plt.ylim(0,0.001)\n",
    "plt.xlabel(\"Word count of email body after cleaning html tag\")\n",
    "plt.ylabel(\"Distribution\");\n",
    "\n",
    "## 1.C \"!\". Not selected as a feature.\n",
    "#plt.figure()\n",
    "#sns.distplot(train[train['spam']==0]['email'].str.count('!'), hist=True, label='Ham')\n",
    "#sns.distplot(train[train['spam']==1]['email'].str.count('!'), hist=True, label='Spam')\n",
    "#plt.xlim(0,100)\n",
    "#plt.xlabel(\"Count of '!'\")\n",
    "#plt.ylabel(\"Distribution\");\n",
    "\n",
    "## 1.D Capital letters won't work since training data is processed into lower-cased form. Not selected as a feature.\n",
    "\n",
    "## 1.E Re or Fwd. Not selected as features alone, but included in subject_words\n",
    "train['subject'] = train['subject'].str.lower()\n",
    "special_sbj = ['re:','fwd:']\n",
    "\n",
    "#print(train.isnull().sum())\n",
    "train=train.fillna(\"\")\n",
    "\n",
    "ham_count = np.sum(words_in_texts(special_sbj, train[train['spam']==0]['subject']),axis=0)\n",
    "ham_proportion = ham_count/train[train['spam']==0].shape[0]\n",
    "spam_count = np.sum(words_in_texts(special_sbj, train[train['spam']==1]['subject']),axis=0)\n",
    "spam_proportion = spam_count/train[train['spam']==1].shape[0]\n",
    "plot_data = pd.DataFrame([ham_proportion,spam_proportion], columns=special_sbj, index = ['ham', 'spam'])\n",
    "plot_data = plot_data.stack()\n",
    "plot_data = plot_data.reset_index()\n",
    "plot_data.columns = ['Type','Words','Proportion of Emails']\n",
    "#plt.figure()\n",
    "#sns.barplot(data=plot_data, hue = 'Type', x = 'Words', y = 'Proportion of Emails');\n",
    "\n",
    "## 2 Words Selection. selected_words as features. \n",
    "\n",
    "from collections import Counter \n",
    "  \n",
    "ham_words = np.concatenate(train[train['spam']==0]['email_words'].sort_index(axis=0, ascending=True).reset_index(drop=True))\n",
    "spam_words = np.concatenate(train[train['spam']==1]['email_words'].sort_index(axis=0, ascending=True).reset_index(drop=True))\n",
    "\n",
    "ham_words_counter = Counter(ham_words) \n",
    "spam_words_counter = Counter(spam_words) \n",
    "\n",
    "ham_words_counter_df = pd.DataFrame.from_dict(ham_words_counter, orient='index')\n",
    "spam_words_counter_df = pd.DataFrame.from_dict(spam_words_counter, orient='index')\n",
    "\n",
    "proportion_words_df = (spam_words_counter_df/ham_words_counter_df).rename(columns={0: \"proportion\"})\n",
    "ham_words_counter_df = ham_words_counter_df.rename(columns={0: \"ham\"})\n",
    "spam_words_counter_df = spam_words_counter_df.rename(columns={0: \"spam\"})\n",
    "\n",
    "words_count = ham_words_counter_df.join(spam_words_counter_df).join(proportion_words_df)\n",
    "words_count = words_count.sort_values(by=\"proportion\", ascending=False)\n",
    "\n",
    "\n",
    "ham_subjects = np.concatenate(train[train['spam']==0]['subject_words'].sort_index(axis=0, ascending=True).reset_index(drop=True))\n",
    "spam_subjects = np.concatenate(train[train['spam']==1]['subject_words'].sort_index(axis=0, ascending=True).reset_index(drop=True))\n",
    "\n",
    "ham_subjects_counter = Counter(ham_subjects) \n",
    "spam_subjects_counter = Counter(spam_subjects) \n",
    "\n",
    "ham_subjects_counter_df = pd.DataFrame.from_dict(ham_subjects_counter, orient='index')\n",
    "spam_subjects_counter_df = pd.DataFrame.from_dict(spam_subjects_counter, orient='index')\n",
    "\n",
    "proportion_subjects_df = (spam_subjects_counter_df/ham_subjects_counter_df).rename(columns={0: \"proportion\"})\n",
    "ham_subjects_counter_df = ham_subjects_counter_df.rename(columns={0: \"ham\"})\n",
    "spam_subjects_counter_df = spam_subjects_counter_df.rename(columns={0: \"spam\"})\n",
    "\n",
    "subjects_count = ham_subjects_counter_df.join(spam_subjects_counter_df).join(proportion_subjects_df)\n",
    "subjects_count = subjects_count.sort_values(by=\"proportion\", ascending=False)\n",
    "\n",
    "\n",
    "\n",
    "# Note: if your plot doesn't appear in the PDF, you should try uncommenting the following line:\n",
    "plt.show()"
   ]
  },
  {
   "cell_type": "markdown",
   "metadata": {
    "deletable": false,
    "editable": false
   },
   "source": [
    "# Question 9: Submitting to Kaggle\n",
    "\n",
    "The following code will write your predictions on the test dataset to a CSV, which you can submit to Kaggle. You may need to modify it to suit your needs.\n",
    "\n",
    "Save your predictions in a 1-dimensional array called `test_predictions`. *Even if you are not submitting to Kaggle, please make sure you've saved your predictions to `test_predictions` as this is how your score for this question will be determined.*\n",
    "\n",
    "Remember that if you've performed transformations or featurization on the training data, you must also perform the same transformations on the test data in order to make predictions. For example, if you've created features for the words \"drug\" and \"money\" on the training data, you must also extract the same features in order to use scikit-learn's `.predict(...)` method.\n",
    "\n",
    "You should submit your CSV files to https://www.kaggle.com/t/c76d80f7d3204159865a324ec2936f18\n",
    "\n",
    "**Note: You may submit up to 4 times a day. If you have submitted 4 times on a day, you will need to wait until the next day for more submissions.**\n",
    "\n",
    "Note that this question is graded on an absolute scale based on the accuracy your model achieves on the test set and the score does not depend on your ranking on Kaggle. \n",
    "\n",
    "*The provided tests check that your predictions are in the correct format, but you must submit to Kaggle to evaluate your classifier accuracy.*\n",
    "\n",
    "<!--\n",
    "BEGIN QUESTION\n",
    "name: q9\n",
    "points: 15\n",
    "-->"
   ]
  },
  {
   "cell_type": "code",
   "execution_count": 13,
   "metadata": {},
   "outputs": [
    {
     "name": "stdout",
     "output_type": "stream",
     "text": [
      "Training Accuracy:  0.9998668973778784\n",
      "#TP: 1917 #TN: 5595\n",
      "#FP: 0 #FN: 1\n",
      "precision: 1.0 recall: 0.9994786235662148 false alarm rate: 0.0\n"
     ]
    }
   ],
   "source": [
    "#selected_subjects = subjects_count[(subjects_count[\"proportion\"]>2) | (subjects_count[\"proportion\"]<1/2)].index\n",
    "selected_subjects = subjects_count[subjects_count[\"proportion\"]>1].index\n",
    "\n",
    "#selected_words = words_count[(words_count[\"proportion\"]>2) | (words_count[\"proportion\"]<1/2)].index\n",
    "selected_words = words_count[words_count[\"proportion\"]>1].index\n",
    "selected_words = np.append(['html'],np.array(selected_words))\n",
    "\n",
    "def count_words_in_texts(words, texts):\n",
    "    '''\n",
    "    Args:\n",
    "        words (list-like): words to find\n",
    "        texts (Series): strings to search in\n",
    "    \n",
    "    Returns:\n",
    "        NumPy array of counts with shape (n, p) where n is the\n",
    "        number of texts and p is the number of words.\n",
    "    '''\n",
    "    indicator_array = [[text.count(word) for word in words]for text in texts]\n",
    "    return indicator_array\n",
    "\n",
    "def processData(data):\n",
    "    data['subject'] = data['subject'].fillna(\"\")\n",
    "    #calLength(data)\n",
    "    X1 = pd.DataFrame(count_words_in_texts(selected_subjects, data['subject']), columns = selected_subjects)\n",
    "    X2 = pd.DataFrame(count_words_in_texts(selected_words, data['email']), columns = selected_words)\n",
    "    #X3 = pd.DataFrame(pd.Series(max_vec((data['length']-2200),0)).reset_index(drop=True)).rename(columns={0:\"lengthOfEmail\"})\n",
    "    \n",
    "    return X1.join(X2,lsuffix='_s', rsuffix='_e')\n",
    "\n",
    "X_train = processData(train)\n",
    "X_test = processData(test)\n",
    "\n",
    "from sklearn.linear_model import LogisticRegression\n",
    "\n",
    "model = LogisticRegression(max_iter=10000).fit(X_train, Y_train)\n",
    "Y_train_hat = model.predict(X_train)\n",
    "training_accuracy = model.score(X_train, Y_train)\n",
    "print(\"Training Accuracy: \", training_accuracy)\n",
    "Y_test_hat = model.predict(X_test)\n",
    "\n",
    "test_predictions = Y_test_hat\n",
    "\n",
    "# Take a look at the evaluation metrics\n",
    "\n",
    "currentPrecision = sum((Y_train_hat==1)&(Y_train==1)) / sum(Y_train_hat)\n",
    "currentRecall = sum((Y_train_hat==1)&(Y_train==1)) / sum(Y_train)\n",
    "currentFAR = sum((Y_train_hat==1)&(Y_train==0)) / sum(Y_train==0)\n",
    "\n",
    "print(\"#TP:\", sum((Y_train_hat==1)&(Y_train==1)), \"#TN:\", sum((Y_train_hat==0)&(Y_train==0)))\n",
    "print(\"#FP:\", sum((Y_train_hat==1)&(Y_train==0)), \"#FN:\", sum((Y_train_hat==0)&(Y_train==1)))\n",
    "print(\"precision:\", currentPrecision, \"recall:\", currentRecall,\n",
    "      \"false alarm rate:\", currentFAR)"
   ]
  },
  {
   "cell_type": "code",
   "execution_count": 14,
   "metadata": {
    "deletable": false,
    "editable": false
   },
   "outputs": [
    {
     "name": "stdout",
     "output_type": "stream",
     "text": [
      "~~~~~~~~~~~~~~~~~~~~~~~~~~~~~~~~~~~~~~~~~~~~~~~~~~~~~~~~~~~~~~~~~~~~~\n",
      "Running tests\n",
      "\n",
      "---------------------------------------------------------------------\n",
      "Test summary\n",
      "    Passed: 3\n",
      "    Failed: 0\n",
      "[ooooooooook] 100.0% passed\n",
      "\n"
     ]
    }
   ],
   "source": [
    "ok.grade(\"q9\");"
   ]
  },
  {
   "cell_type": "markdown",
   "metadata": {},
   "source": [
    "The following saves a file to submit to Kaggle."
   ]
  },
  {
   "cell_type": "code",
   "execution_count": 15,
   "metadata": {},
   "outputs": [
    {
     "name": "stdout",
     "output_type": "stream",
     "text": [
      "Created a CSV file: submission_2020-04-28T08:36:48.csv.\n",
      "You may now upload this CSV file to Kaggle for scoring.\n"
     ]
    }
   ],
   "source": [
    "from datetime import datetime\n",
    "\n",
    "# Assuming that your predictions on the test set are stored in a 1-dimensional array called\n",
    "# test_predictions. Feel free to modify this cell as long you create a CSV in the right format.\n",
    "\n",
    "# Construct and save the submission:\n",
    "submission_df = pd.DataFrame({\n",
    "    \"Id\": test['id'], \n",
    "    \"Class\": test_predictions,\n",
    "}, columns=['Id', 'Class'])\n",
    "timestamp = datetime.isoformat(datetime.now()).split(\".\")[0]\n",
    "submission_df.to_csv(\"submission_{}.csv\".format(timestamp), index=False)\n",
    "\n",
    "print('Created a CSV file: {}.'.format(\"submission_{}.csv\".format(timestamp)))\n",
    "print('You may now upload this CSV file to Kaggle for scoring.')"
   ]
  },
  {
   "cell_type": "markdown",
   "metadata": {
    "deletable": false,
    "editable": false
   },
   "source": [
    "# Submit\n",
    "Make sure you have run all cells in your notebook in order before running the cell below, so that all images/graphs appear in the output.\n",
    "**Please save before submitting!**\n",
    "\n",
    "<!-- EXPECT 5 EXPORTED QUESTIONS -->"
   ]
  },
  {
   "cell_type": "code",
   "execution_count": 3,
   "metadata": {
    "deletable": false,
    "editable": false
   },
   "outputs": [
    {
     "name": "stdout",
     "output_type": "stream",
     "text": [
      "Generating PDF...\n",
      "This cell has a lot of content! Perhaps try to shorten your response. \n",
      "\n",
      "\n",
      "\n",
      " # Write your description (2-3 sentences) as a comment here:\n",
      "# According to the plot below, difference between ham and spam distribution is not obvious\n",
      "# engough. Because of this words count is selecte\n",
      "Saved proj2b.pdf\n"
     ]
    },
    {
     "data": {
      "application/javascript": [
       "IPython.notebook.save_checkpoint();"
      ],
      "text/plain": [
       "<IPython.core.display.Javascript object>"
      ]
     },
     "metadata": {},
     "output_type": "display_data"
    },
    {
     "data": {
      "application/javascript": [
       "IPython.notebook.save_notebook();"
      ],
      "text/plain": [
       "<IPython.core.display.Javascript object>"
      ]
     },
     "metadata": {},
     "output_type": "display_data"
    },
    {
     "name": "stdout",
     "output_type": "stream",
     "text": [
      "Saving notebook... Saved 'proj2b.ipynb'.\n",
      "Submit... 100% complete\n",
      "Submission successful for user: kema@berkeley.edu\n",
      "URL: https://okpy.org/cal/data100/sp20/proj2b/submissions/ql2MG7\n",
      "\n"
     ]
    }
   ],
   "source": [
    "# Save your notebook first, then run this cell to submit.\n",
    "import jassign.to_pdf\n",
    "jassign.to_pdf.generate_pdf('proj2b.ipynb', 'proj2b.pdf')\n",
    "ok.submit()"
   ]
  }
 ],
 "metadata": {
  "kernelspec": {
   "display_name": "Python 3",
   "language": "python",
   "name": "python3"
  },
  "language_info": {
   "codemirror_mode": {
    "name": "ipython",
    "version": 3
   },
   "file_extension": ".py",
   "mimetype": "text/x-python",
   "name": "python",
   "nbconvert_exporter": "python",
   "pygments_lexer": "ipython3",
   "version": "3.8.1"
  }
 },
 "nbformat": 4,
 "nbformat_minor": 4
}
